{
 "cells": [
  {
   "cell_type": "code",
   "execution_count": 1,
   "metadata": {},
   "outputs": [],
   "source": [
    "import time\n",
    "import asyncio\n",
    "import pynvml\n",
    "import subprocess\n",
    "import pandas as pd\n",
    "import numpy as np\n",
    "from typing import Mapping\n",
    "from functools import cached_property\n",
    "from emt.power_groups.power_group import PowerGroup\n"
   ]
  },
  {
   "cell_type": "code",
   "execution_count": 2,
   "metadata": {},
   "outputs": [],
   "source": [
    "class PowerIntegrator:\n",
    "    \"\"\"\n",
    "    Integrates the instantaneous power usages (W) over the time-delta between the previous call.\n",
    "    This performs a definite integral of the instantaneous power, using a high-resolution timer,\n",
    "    the timer measures the time passed since the last call and integrates the power using the\n",
    "    trapezoidal rule.\n",
    "    \"\"\"\n",
    "\n",
    "    def __init__(self):\n",
    "        self._previous_time = time.perf_counter()\n",
    "        self._previous_power = 0.0\n",
    "        self._energy = 0\n",
    "\n",
    "    def __call__(self, current_power):\n",
    "        \"\"\"\n",
    "        Add an instantaneous power value (in watts) for a power zone and calculate the cumulative energy\n",
    "        consumption in Joules.\n",
    "        Args:\n",
    "            power_watt (float): Instantaneous power usage in watts.\n",
    "        Returns:\n",
    "            float: Cumulative energy consumption in watt-seconds.\n",
    "        \"\"\"\n",
    "        energy_delta = 0\n",
    "        current_time = time.perf_counter()\n",
    "        time_delta = current_time - self._previous_time\n",
    "        # Calculate the energy consumed during this time interval using the trapezoidal rule\n",
    "        energy_delta = ((current_power + self._previous_power) / 2.0) * time_delta\n",
    "        self._energy += energy_delta\n",
    "\n",
    "        # Update the last time for the next call\n",
    "        self._previous_time = current_time\n",
    "        return self._energy\n"
   ]
  },
  {
   "cell_type": "code",
   "execution_count": 3,
   "metadata": {},
   "outputs": [],
   "source": [
    "pynvml.nvmlInit()\n",
    "zones = []\n",
    "power_integrators = []\n",
    "for index in range(pynvml.nvmlDeviceGetCount()):\n",
    "    zone_handle = pynvml.nvmlDeviceGetHandleByIndex(index)\n",
    "    zones.append(zone_handle)\n",
    "    power_integrators.append(PowerIntegrator())"
   ]
  },
  {
   "cell_type": "code",
   "execution_count": 4,
   "metadata": {},
   "outputs": [
    {
     "data": {
      "text/plain": [
       "(1,\n",
       " [<pynvml.nvml.LP_struct_c_nvmlDevice_t at 0x1bf07639bc0>],\n",
       " [<__main__.PowerIntegrator at 0x1bf076653d0>])"
      ]
     },
     "execution_count": 4,
     "metadata": {},
     "output_type": "execute_result"
    }
   ],
   "source": [
    "pynvml.nvmlDeviceGetCount(), zones, power_integrators"
   ]
  },
  {
   "cell_type": "code",
   "execution_count": 5,
   "metadata": {},
   "outputs": [
    {
     "data": {
      "text/plain": [
       "[0]"
      ]
     },
     "execution_count": 5,
     "metadata": {},
     "output_type": "execute_result"
    }
   ],
   "source": [
    "names = [ pynvml.nvmlDeviceGetIndex(zone) for zone in zones]\n",
    "names"
   ]
  },
  {
   "cell_type": "code",
   "execution_count": 8,
   "metadata": {},
   "outputs": [
    {
     "data": {
      "text/plain": [
       "[<pynvml.nvml.LP_struct_c_nvmlDevice_t at 0x1bf07639bc0>]"
      ]
     },
     "execution_count": 8,
     "metadata": {},
     "output_type": "execute_result"
    }
   ],
   "source": [
    "zones"
   ]
  },
  {
   "cell_type": "code",
   "execution_count": 9,
   "metadata": {},
   "outputs": [
    {
     "ename": "NVMLError_NoData",
     "evalue": "No data",
     "output_type": "error",
     "traceback": [
      "\u001b[1;31m---------------------------------------------------------------------------\u001b[0m",
      "\u001b[1;31mNVMLError_NoData\u001b[0m                          Traceback (most recent call last)",
      "\u001b[1;32mc:\\Users\\320267897\\Documents\\work_space\\energy-monitoring-tool\\emt\\power_groups\\test_pg.ipynb Cell 7\u001b[0m line \u001b[0;36m1\n\u001b[1;32m----> <a href='vscode-notebook-cell:/c%3A/Users/320267897/Documents/work_space/energy-monitoring-tool/emt/power_groups/test_pg.ipynb#W5sZmlsZQ%3D%3D?line=0'>1</a>\u001b[0m pynvml\u001b[39m.\u001b[39;49mnvmlDeviceGetPowerUsage(zones[\u001b[39m0\u001b[39;49m])\n",
      "File \u001b[1;32mc:\\Users\\320267897\\AppData\\Local\\miniconda3\\envs\\emt3\\lib\\site-packages\\pynvml\\nvml.py:2404\u001b[0m, in \u001b[0;36mnvmlDeviceGetPowerUsage\u001b[1;34m(handle)\u001b[0m\n\u001b[0;32m   2402\u001b[0m fn \u001b[39m=\u001b[39m _nvmlGetFunctionPointer(\u001b[39m\"\u001b[39m\u001b[39mnvmlDeviceGetPowerUsage\u001b[39m\u001b[39m\"\u001b[39m)\n\u001b[0;32m   2403\u001b[0m ret \u001b[39m=\u001b[39m fn(handle, byref(c_watts))\n\u001b[1;32m-> 2404\u001b[0m _nvmlCheckReturn(ret)\n\u001b[0;32m   2405\u001b[0m \u001b[39mreturn\u001b[39;00m c_watts\u001b[39m.\u001b[39mvalue\n",
      "File \u001b[1;32mc:\\Users\\320267897\\AppData\\Local\\miniconda3\\envs\\emt3\\lib\\site-packages\\pynvml\\nvml.py:833\u001b[0m, in \u001b[0;36m_nvmlCheckReturn\u001b[1;34m(ret)\u001b[0m\n\u001b[0;32m    831\u001b[0m \u001b[39mdef\u001b[39;00m \u001b[39m_nvmlCheckReturn\u001b[39m(ret):\n\u001b[0;32m    832\u001b[0m     \u001b[39mif\u001b[39;00m (ret \u001b[39m!=\u001b[39m NVML_SUCCESS):\n\u001b[1;32m--> 833\u001b[0m         \u001b[39mraise\u001b[39;00m NVMLError(ret)\n\u001b[0;32m    834\u001b[0m     \u001b[39mreturn\u001b[39;00m ret\n",
      "\u001b[1;31mNVMLError_NoData\u001b[0m: No data"
     ]
    }
   ],
   "source": [
    "pynvml.nvmlDeviceGetPowerUsage(zones[0])"
   ]
  },
  {
   "cell_type": "code",
   "execution_count": 7,
   "metadata": {},
   "outputs": [
    {
     "ename": "CalledProcessError",
     "evalue": "Command 'nvidia-smi  pmon -c 1' returned non-zero exit status 255.",
     "output_type": "error",
     "traceback": [
      "\u001b[1;31m---------------------------------------------------------------------------\u001b[0m",
      "\u001b[1;31mCalledProcessError\u001b[0m                        Traceback (most recent call last)",
      "\u001b[1;32mc:\\Users\\320267897\\Documents\\work_space\\energy-monitoring-tool\\emt\\power_groups\\test_pg.ipynb Cell 7\u001b[0m line \u001b[0;36m2\n\u001b[0;32m      <a href='vscode-notebook-cell:/c%3A/Users/320267897/Documents/work_space/energy-monitoring-tool/emt/power_groups/test_pg.ipynb#W6sZmlsZQ%3D%3D?line=0'>1</a>\u001b[0m command \u001b[39m=\u001b[39m \u001b[39m\"\u001b[39m\u001b[39mnvidia-smi  pmon -c 1\u001b[39m\u001b[39m\"\u001b[39m\n\u001b[1;32m----> <a href='vscode-notebook-cell:/c%3A/Users/320267897/Documents/work_space/energy-monitoring-tool/emt/power_groups/test_pg.ipynb#W6sZmlsZQ%3D%3D?line=1'>2</a>\u001b[0m output \u001b[39m=\u001b[39m subprocess\u001b[39m.\u001b[39;49mcheck_output(command, shell\u001b[39m=\u001b[39;49m\u001b[39mTrue\u001b[39;49;00m, text\u001b[39m=\u001b[39;49m\u001b[39mTrue\u001b[39;49;00m)\n\u001b[0;32m      <a href='vscode-notebook-cell:/c%3A/Users/320267897/Documents/work_space/energy-monitoring-tool/emt/power_groups/test_pg.ipynb#W6sZmlsZQ%3D%3D?line=2'>3</a>\u001b[0m output\n",
      "File \u001b[1;32mc:\\Users\\320267897\\AppData\\Local\\miniconda3\\envs\\emt3\\lib\\subprocess.py:424\u001b[0m, in \u001b[0;36mcheck_output\u001b[1;34m(timeout, *popenargs, **kwargs)\u001b[0m\n\u001b[0;32m    421\u001b[0m         empty \u001b[39m=\u001b[39m \u001b[39mb\u001b[39m\u001b[39m'\u001b[39m\u001b[39m'\u001b[39m\n\u001b[0;32m    422\u001b[0m     kwargs[\u001b[39m'\u001b[39m\u001b[39minput\u001b[39m\u001b[39m'\u001b[39m] \u001b[39m=\u001b[39m empty\n\u001b[1;32m--> 424\u001b[0m \u001b[39mreturn\u001b[39;00m run(\u001b[39m*\u001b[39mpopenargs, stdout\u001b[39m=\u001b[39mPIPE, timeout\u001b[39m=\u001b[39mtimeout, check\u001b[39m=\u001b[39m\u001b[39mTrue\u001b[39;00m,\n\u001b[0;32m    425\u001b[0m            \u001b[39m*\u001b[39m\u001b[39m*\u001b[39mkwargs)\u001b[39m.\u001b[39mstdout\n",
      "File \u001b[1;32mc:\\Users\\320267897\\AppData\\Local\\miniconda3\\envs\\emt3\\lib\\subprocess.py:528\u001b[0m, in \u001b[0;36mrun\u001b[1;34m(input, capture_output, timeout, check, *popenargs, **kwargs)\u001b[0m\n\u001b[0;32m    526\u001b[0m     retcode \u001b[39m=\u001b[39m process\u001b[39m.\u001b[39mpoll()\n\u001b[0;32m    527\u001b[0m     \u001b[39mif\u001b[39;00m check \u001b[39mand\u001b[39;00m retcode:\n\u001b[1;32m--> 528\u001b[0m         \u001b[39mraise\u001b[39;00m CalledProcessError(retcode, process\u001b[39m.\u001b[39margs,\n\u001b[0;32m    529\u001b[0m                                  output\u001b[39m=\u001b[39mstdout, stderr\u001b[39m=\u001b[39mstderr)\n\u001b[0;32m    530\u001b[0m \u001b[39mreturn\u001b[39;00m CompletedProcess(process\u001b[39m.\u001b[39margs, retcode, stdout, stderr)\n",
      "\u001b[1;31mCalledProcessError\u001b[0m: Command 'nvidia-smi  pmon -c 1' returned non-zero exit status 255."
     ]
    }
   ],
   "source": [
    "command = \"nvidia-smi  pmon -c 1\"\n",
    "output = subprocess.check_output(command, shell=True, text=True)\n",
    "output"
   ]
  },
  {
   "cell_type": "code",
   "execution_count": 16,
   "metadata": {},
   "outputs": [
    {
     "name": "stdout",
     "output_type": "stream",
     "text": [
      "utilization.gpu [%], utilization.memory [%]\n",
      "0 %, 0 %\n"
     ]
    }
   ],
   "source": [
    "! nvidia-smi --query-gpu=utilization.gpu,utilization.memory --format=csv\n"
   ]
  },
  {
   "cell_type": "code",
   "execution_count": null,
   "metadata": {},
   "outputs": [],
   "source": [
    "lines = output.rstrip().split(\"\\n\")\n",
    "header = lines[0][1:].split()  # Extract field names from the header\n",
    "# the second line is units, data begins at the third line\n",
    "data = [line.split() for line in lines[2:] if line.strip()]\n",
    "df = pd.DataFrame(data, columns=header)[[\"gpu\", \"pid\", \"sm\", \"mem\"]]\n",
    "df = df.apply(pd.to_numeric, errors=\"coerce\")\n",
    "# filter out pids that are not relevant\n",
    "filter = df['pid'].apply(_filter)\n",
    "df_system = df.drop(columns=['pid'])\n",
    "df_processes  = df_system[filter]\n",
    "df_processes= df_processes.groupby('gpu').sum().fillna(0.0)\n",
    "df_processes.to_dict(orient='index')"
   ]
  },
  {
   "cell_type": "code",
   "execution_count": 19,
   "metadata": {},
   "outputs": [
    {
     "data": {
      "text/plain": [
       "1"
      ]
     },
     "execution_count": 19,
     "metadata": {},
     "output_type": "execute_result"
    }
   ],
   "source": [
    "# Get the number of GPUs\n",
    "device_count = pynvml.nvmlDeviceGetCount()\n",
    "device_count"
   ]
  },
  {
   "cell_type": "code",
   "execution_count": 18,
   "metadata": {},
   "outputs": [
    {
     "name": "stdout",
     "output_type": "stream",
     "text": [
      "GPU 0: NVIDIA RTX A1000 6GB Laptop GPU\n",
      "PID: 2956, GPU Utilization: 6%, Memory Used: 455.02734375 MB\n",
      "PID: 6964, GPU Utilization: 6%, Memory Used: 455.02734375 MB\n",
      "PID: 15232, GPU Utilization: 6%, Memory Used: 455.02734375 MB\n",
      "PID: 10200, GPU Utilization: 6%, Memory Used: 455.02734375 MB\n",
      "PID: 14280, GPU Utilization: 6%, Memory Used: 455.02734375 MB\n"
     ]
    }
   ],
   "source": [
    "import pynvml\n",
    "\n",
    "# Initialize NVML\n",
    "pynvml.nvmlInit()\n",
    "\n",
    "# Get the number of GPUs\n",
    "device_count = pynvml.nvmlDeviceGetCount()\n",
    "\n",
    "# Loop through each GPU\n",
    "for device_index in range(device_count):\n",
    "    handle = pynvml.nvmlDeviceGetHandleByIndex(device_index)\n",
    "    print(f\"GPU {device_index}: {pynvml.nvmlDeviceGetName(handle)}\")\n",
    "    # Get running processes on the GPU\n",
    "    processes = pynvml.nvmlDeviceGetComputeRunningProcesses(handle)\n",
    "    \n",
    "    for process in processes:\n",
    "        pid = process.pid\n",
    "        gpu_utilization = pynvml.nvmlDeviceGetUtilizationRates(handle)\n",
    "        memory_used = pynvml.nvmlDeviceGetMemoryInfo(handle).used\n",
    "        \n",
    "        print(f\"PID: {pid}, GPU Utilization: {gpu_utilization.gpu}%, Memory Used: {memory_used / (1024 ** 2)} MB\")\n",
    "\n",
    "# Shutdown NVML\n",
    "pynvml.nvmlShutdown()\n"
   ]
  },
  {
   "cell_type": "code",
   "execution_count": null,
   "metadata": {},
   "outputs": [],
   "source": [
    "def _read_utilized_energy(self):\n",
    "    \"\"\"\n",
    "    \"\"\"    \n",
    "    energy_zones = {zone: 0.0 for zone in self.zones}\n",
    "    for zone, zone_handle, integrator in zip(\n",
    "        self.zones, self._zones, self._power_integrators\n",
    "    ):\n",
    "        try:\n",
    "            # Retrieves power usage in mW, divide by 1000 to get in W.\n",
    "            # Measure total energy consumption at this point in time\n",
    "            current_total_energy = pynvml.nvmlDeviceGetTotalEnergyConsumption(zone_handle)\n",
    "            # get the zone level energy used\n",
    "            zone_energy_used = integrator(current_total_energy)\n",
    "            zone_memory_used = pynvml.nvmlDeviceGetMemoryInfo(zone_handle).total\n",
    "            print(f\"Zone: {zone_handle}, energy_used: {zone_energy_used}, memory_used: {zone_memory_used}\")\n",
    "            # Get running processes on the GPU\n",
    "            processes = pynvml.nvmlDeviceGetComputeRunningProcesses(zone_handle)\n",
    "            # Filter processes based on self.pids\n",
    "            filtered_processes = [\n",
    "                process for process in processes\n",
    "                if process.pid in self.pids\n",
    "            ]\n",
    "            for process in filtered_processes:\n",
    "                pid = process.pid\n",
    "                memory_used = process.usedGpuMemory  # Memory used by this specific process   \n",
    "                # Here you might estimate energy usage based on memory usage or other metrics\n",
    "                # This is a simplistic approach and might not be accurate\n",
    "                estimated_energy_usage = (memory_used / zone_memory_used) * zone_energy_used\n",
    "                print(f\"PID: {pid}, Memory Used: {memory_used / (1024 ** 2)} MB, Estimated Energy Used: {estimated_energy_usage:.2f} J\")\n",
    "        except pynvml.NVMLError:\n",
    "            raise Exception\n",
    "        # get time elapsed since\n",
    "    return energy_zones"
   ]
  },
  {
   "cell_type": "code",
   "execution_count": null,
   "metadata": {},
   "outputs": [],
   "source": [
    "def _read_energy(self):\n",
    "        \"\"\"\n",
    "        Retrieves instantaneous power usages (W) of all GPUs in use by the tracked processes.\n",
    "        Integrates the power using the corresponding power integrator for the zone, reports\n",
    "        the cumulative energy fro each zone.\n",
    "        \"\"\"\n",
    "        energy_zones = {zone: 0.0 for zone in self.zones}\n",
    "        for zone, zone_handle, integrator in zip(\n",
    "            self.zones, self._zones, self._power_integrators\n",
    "        ):\n",
    "            try:\n",
    "                # Retrieves power usage in mW, divide by 1000 to get in W.\n",
    "                power_usage = pynvml.nvmlDeviceGetPowerUsage(zone_handle) / 1000\n",
    "                energy_zones[zone] = integrator(power_usage)\n",
    "            except pynvml.NVMLError:\n",
    "                raise Exception\n",
    "            # get time elapsed since\n",
    "        return energy_zones\n",
    "def _read_utilization(self) -> Mapping[int, float]:\n",
    "        \"\"\"\n",
    "        This method provides utilization (per-zone) of the compute devices by the tracked\n",
    "        processes.The is used to attribute a proportionate energy credit to the processes.\n",
    "\n",
    "        \"\"\"\n",
    "        def _filter(pid):\n",
    "            \"\"\"\n",
    "            The filter masks out the `pid` entries not tracked \n",
    "            by the energy monitor and returns the boolean mask.\n",
    "            \"\"\"\n",
    "            keep = False\n",
    "            if not np.isnan(pid):\n",
    "                keep = True if int(pid) in self.pids else False\n",
    "            return keep\n",
    "        \n",
    "        command = \"nvidia-smi  pmon -c 1\"\n",
    "        output = subprocess.check_output(command, shell=True, text=True)\n",
    "        lines = output.rstrip().split(\"\\n\")\n",
    "        header = lines[0][1:].split()  # Extract field names from the header\n",
    "        # the second line is units, data begins at the third line\n",
    "        data = [line.split() for line in lines[2:] if line.strip()]\n",
    "        df = pd.DataFrame(data, columns=header)[[\"gpu\", \"pid\", \"sm\", \"mem\"]]\n",
    "        df = df.apply(pd.to_numeric, errors=\"coerce\")\n",
    "        # filter out pids that are not relevant\n",
    "        filter = df['pid'].apply(_filter)\n",
    "        df_system = df.drop(columns=['pid'])\n",
    "        df_processes  = df_system[filter]\n",
    "        df_processes= df_processes.groupby('gpu').sum().fillna(0.0)\n",
    "        return df_processes.to_dict(orient='index')\n",
    "async def commence(self) -> None:\n",
    "        \"\"\"\n",
    "        This commence a periodic execution at a set rate:\n",
    "            [get_energy_trace -> update_energy_consumption -> async_wait]\n",
    "\n",
    "        The periodic execution is scheduled at the rate dictated by `self.sleep_interval`, during the\n",
    "        instantiation. The energy consumption is updated using the `_read_energy` and `_read_utilization`\n",
    "        methods. The method credits energy consumption to the tracked processes by weighting the energy\n",
    "        trace, obtained from each zone, by the utilization of the zone by the processes.\n",
    "        \"\"\"\n",
    "        while True:\n",
    "            utilization_trace = self._read_utilization()\n",
    "            energy_trace = self._read_energy()\n",
    "\n",
    "            self._count_trace_calls += 1\n",
    "            self.logger.debug(\n",
    "                f\"Obtained energy trace no.{self._count_trace_calls} from {type(self).__name__ }:\\n\"\n",
    "                f\"utilization: {utilization_trace}\\n\"\n",
    "                f\"energy:     {energy_trace}\"\n",
    "            )\n",
    "\n",
    "            for zone in utilization_trace:    \n",
    "                #fmt: off\n",
    "                self._consumed_energy += (\n",
    "                    energy_trace[zone] * utilization_trace[zone]['sm']\n",
    "                )\n",
    "                # fmt: on\n",
    "\n",
    "            await asyncio.sleep(self.sleep_interval)"
   ]
  }
 ],
 "metadata": {
  "kernelspec": {
   "display_name": "emt_1",
   "language": "python",
   "name": "python3"
  },
  "language_info": {
   "codemirror_mode": {
    "name": "ipython",
    "version": 3
   },
   "file_extension": ".py",
   "mimetype": "text/x-python",
   "name": "python",
   "nbconvert_exporter": "python",
   "pygments_lexer": "ipython3",
   "version": "3.9.19"
  }
 },
 "nbformat": 4,
 "nbformat_minor": 2
}
