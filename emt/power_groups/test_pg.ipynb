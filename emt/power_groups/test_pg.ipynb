{
 "cells": [
  {
   "cell_type": "code",
   "execution_count": 1,
   "metadata": {},
   "outputs": [],
   "source": [
    "import time\n",
    "import asyncio\n",
    "import pynvml\n",
    "import subprocess\n",
    "import pandas as pd\n",
    "import numpy as np\n",
    "from typing import Mapping\n",
    "from functools import cached_property\n",
    "from emt.power_groups.power_group import PowerGroup\n"
   ]
  },
  {
   "cell_type": "code",
   "execution_count": 2,
   "metadata": {},
   "outputs": [],
   "source": [
    "class PowerIntegrator:\n",
    "    \"\"\"\n",
    "    Integrates the instantaneous power usages (W) over the time-delta between the previous call.\n",
    "    This performs a definite integral of the instantaneous power, using a high-resolution timer,\n",
    "    the timer measures the time passed since the last call and integrates the power using the\n",
    "    trapezoidal rule.\n",
    "    \"\"\"\n",
    "\n",
    "    def __init__(self):\n",
    "        self._previous_time = time.perf_counter()\n",
    "        self._previous_power = 0.0\n",
    "        self._energy = 0\n",
    "\n",
    "    def __call__(self, current_power):\n",
    "        \"\"\"\n",
    "        Add an instantaneous power value (in watts) for a power zone and calculate the cumulative energy\n",
    "        consumption in Joules.\n",
    "        Args:\n",
    "            power_watt (float): Instantaneous power usage in watts.\n",
    "        Returns:\n",
    "            float: Cumulative energy consumption in watt-seconds.\n",
    "        \"\"\"\n",
    "        energy_delta = 0\n",
    "        current_time = time.perf_counter()\n",
    "        time_delta = current_time - self._previous_time\n",
    "        # Calculate the energy consumed during this time interval using the trapezoidal rule\n",
    "        energy_delta = ((current_power + self._previous_power) / 2.0) * time_delta\n",
    "        self._energy += energy_delta\n",
    "\n",
    "        # Update the last time for the next call\n",
    "        self._previous_time = current_time\n",
    "        return self._energy\n"
   ]
  },
  {
   "cell_type": "code",
   "execution_count": 3,
   "metadata": {},
   "outputs": [],
   "source": [
    "pynvml.nvmlInit()\n",
    "zones = []\n",
    "power_integrators = []\n",
    "for index in range(pynvml.nvmlDeviceGetCount()):\n",
    "    zone_handle = pynvml.nvmlDeviceGetHandleByIndex(index)\n",
    "    zones.append(zone_handle)\n",
    "    power_integrators.append(PowerIntegrator())"
   ]
  },
  {
   "cell_type": "code",
   "execution_count": 4,
   "metadata": {},
   "outputs": [
    {
     "data": {
      "text/plain": [
       "(5,\n",
       " [<pynvml.nvml.LP_struct_c_nvmlDevice_t at 0x7fb657ca2ed0>,\n",
       "  <pynvml.nvml.LP_struct_c_nvmlDevice_t at 0x7fb657ca30d0>,\n",
       "  <pynvml.nvml.LP_struct_c_nvmlDevice_t at 0x7fb657ca3150>,\n",
       "  <pynvml.nvml.LP_struct_c_nvmlDevice_t at 0x7fb657ca31d0>,\n",
       "  <pynvml.nvml.LP_struct_c_nvmlDevice_t at 0x7fb657ca3250>],\n",
       " [<__main__.PowerIntegrator at 0x7fb658ceafc0>,\n",
       "  <__main__.PowerIntegrator at 0x7fb659b2ce90>,\n",
       "  <__main__.PowerIntegrator at 0x7fb706c01dc0>,\n",
       "  <__main__.PowerIntegrator at 0x7fb706c029c0>,\n",
       "  <__main__.PowerIntegrator at 0x7fb706c02c60>])"
      ]
     },
     "execution_count": 4,
     "metadata": {},
     "output_type": "execute_result"
    }
   ],
   "source": [
    "pynvml.nvmlDeviceGetCount(), zones, power_integrators"
   ]
  },
  {
   "cell_type": "code",
   "execution_count": 6,
   "metadata": {},
   "outputs": [
    {
     "data": {
      "text/plain": [
       "[0, 1, 2, 3, 4]"
      ]
     },
     "execution_count": 6,
     "metadata": {},
     "output_type": "execute_result"
    }
   ],
   "source": [
    "names = [ pynvml.nvmlDeviceGetIndex(zone) for zone in zones]\n",
    "names"
   ]
  },
  {
   "cell_type": "code",
   "execution_count": 7,
   "metadata": {},
   "outputs": [
    {
     "data": {
      "text/plain": [
       "9690"
      ]
     },
     "execution_count": 7,
     "metadata": {},
     "output_type": "execute_result"
    }
   ],
   "source": [
    "pynvml.nvmlDeviceGetPowerUsage(zones[0])"
   ]
  },
  {
   "cell_type": "code",
   "execution_count": null,
   "metadata": {},
   "outputs": [],
   "source": []
  }
 ],
 "metadata": {
  "kernelspec": {
   "display_name": "emt_1",
   "language": "python",
   "name": "python3"
  },
  "language_info": {
   "codemirror_mode": {
    "name": "ipython",
    "version": 3
   },
   "file_extension": ".py",
   "mimetype": "text/x-python",
   "name": "python",
   "nbconvert_exporter": "python",
   "pygments_lexer": "ipython3",
   "version": "3.12.6"
  }
 },
 "nbformat": 4,
 "nbformat_minor": 2
}
