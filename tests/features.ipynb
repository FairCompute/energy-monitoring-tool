{
 "cells": [
  {
   "cell_type": "code",
   "execution_count": 6,
   "metadata": {},
   "outputs": [],
   "source": [
    "import platform\n",
    "import os\n",
    "import psutil"
   ]
  },
  {
   "cell_type": "code",
   "execution_count": 7,
   "metadata": {},
   "outputs": [
    {
     "data": {
      "text/plain": [
       "(('64bit', 'WindowsPE'),\n",
       " 'AMD64',\n",
       " 'Intel64 Family 6 Model 183 Stepping 1, GenuineIntel',\n",
       " 28,\n",
       " 'Windows',\n",
       " '10.0.19045',\n",
       " '10')"
      ]
     },
     "execution_count": 7,
     "metadata": {},
     "output_type": "execute_result"
    }
   ],
   "source": [
    "platform.architecture(), platform.machine(), platform.processor(), os.cpu_count(), platform.system(), platform.version() ,platform.release()"
   ]
  },
  {
   "cell_type": "code",
   "execution_count": null,
   "metadata": {},
   "outputs": [],
   "source": [
    "# maybe do an initial check and figure out which Os and which hardware is this.. and then run dedicated powergroup?\n"
   ]
  }
 ],
 "metadata": {
  "kernelspec": {
   "display_name": "emt3",
   "language": "python",
   "name": "python3"
  },
  "language_info": {
   "codemirror_mode": {
    "name": "ipython",
    "version": 3
   },
   "file_extension": ".py",
   "mimetype": "text/x-python",
   "name": "python",
   "nbconvert_exporter": "python",
   "pygments_lexer": "ipython3",
   "version": "3.9.19"
  }
 },
 "nbformat": 4,
 "nbformat_minor": 2
}
